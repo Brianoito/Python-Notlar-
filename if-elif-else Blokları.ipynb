{
 "cells": [
  {
   "cell_type": "markdown",
   "metadata": {},
   "source": [
    "if-elif-else Blokları\n",
    "\n",
    "Önceki konumuzda koşullu durumlarımızla sadece tek bir koşulu kontrol edebiliyorduk. Ancak programlamada bir durum bir çok koşula bağlı olabilir. Örneğin bir hesap makinesi programı yazdığımızda kullanıcının girdiği işlemlere göre koşullarımızı belirleyebiliriz. Bu tür durumlar için if-elif-else kalıplarını kullanırız. Kullanımı şu şekildedir;\n",
    "\n",
    "Python\n",
    "if koşul: \n",
    "    Yapılacak İşlemler\n",
    "elif başka bir koşul:\n",
    "     Yapılacak İşlemler\n",
    "elif başka bir koşul:\n",
    "     Yapılacak İşlemler\n",
    "\n",
    "        //\n",
    "        //\n",
    "else:\n",
    "     Yapılacak İşlemler\n",
    "1\n",
    "2\n",
    "3\n",
    "4\n",
    "5\n",
    "6\n",
    "7\n",
    "8\n",
    "9\n",
    "10\n",
    "11\n",
    "if koşul: \n",
    "    Yapılacak İşlemler\n",
    "elif başka bir koşul:\n",
    "     Yapılacak İşlemler\n",
    "elif başka bir koşul:\n",
    "     Yapılacak İşlemler\n",
    " \n",
    "        //\n",
    "        //\n",
    "else:\n",
    "     Yapılacak İşlemler\n",
    "Programlarımızda, Kaç tane koşulumuz var ise o kadar elif bloğu oluşturabiliriz. Ayrıca else in yazılması zorunlu değildir. if – elif – else kalıplarında, hangi koşul sağlanırsa program o bloğu çalıştırır ve if-elif-blokları sona erer. Şimdi isterseniz kullanıcıya işlem seçtirdiğimiz bir programla , bu kalıbı öğrenmeye başlayalım."
   ]
  },
  {
   "cell_type": "code",
   "execution_count": 1,
   "metadata": {},
   "outputs": [
    {
     "name": "stdout",
     "output_type": "stream",
     "text": [
      "İD:Brianoito\n",
      "PASSWORD:lldpntATTM\n",
      "\n",
      "PROFİLE GİRİŞ YAPTINIZ\n",
      "\n",
      "https://www.facebook.com/ibrahimm.ii\n",
      "(linki kopyalayıp tarayıcıya yapıştırın)\n"
     ]
    }
   ],
   "source": [
    "#kullanıcı ismi ve parola kontrolü programı\n",
    "defid =\"Brianoito\"\n",
    "defpassword =\"123456\"\n",
    "\n",
    "id = input(\"İD:\")\n",
    "password = input(\"PASSWORD:\")\n",
    "\n",
    "if ((defid == id) and (defpassword == password)):\n",
    "\n",
    "    print(\"\\nPROFİLE GİRİŞ YAPTINIZ\")\n",
    "    print(\"\\nhttps://www.facebook.com/ibrahimm.ii\")\n",
    "    print(\"(linki kopyalayıp tarayıcıya yapıştırın)\")\n",
    "elif ((defid == id) and (defpassword != password)):\n",
    "    print(\"\\nŞİFRE YANLIŞ!\")\n",
    "\n",
    "elif ((defid != id)):\n",
    "    print(\"\\nKULLANICI BULUNAMADI!\")"
   ]
  },
  {
   "cell_type": "code",
   "execution_count": 2,
   "metadata": {},
   "outputs": [],
   "source": [
    "#koşullara if bloğuyla başlamak zorundayız elif ve else if e bağlıdır"
   ]
  },
  {
   "cell_type": "code",
   "execution_count": null,
   "metadata": {},
   "outputs": [],
   "source": []
  },
  {
   "cell_type": "code",
   "execution_count": null,
   "metadata": {},
   "outputs": [],
   "source": []
  },
  {
   "cell_type": "code",
   "execution_count": null,
   "metadata": {},
   "outputs": [],
   "source": []
  }
 ],
 "metadata": {
  "kernelspec": {
   "display_name": "Python 3",
   "language": "python",
   "name": "python3"
  },
  "language_info": {
   "codemirror_mode": {
    "name": "ipython",
    "version": 3
   },
   "file_extension": ".py",
   "mimetype": "text/x-python",
   "name": "python",
   "nbconvert_exporter": "python",
   "pygments_lexer": "ipython3",
   "version": "3.7.6"
  }
 },
 "nbformat": 4,
 "nbformat_minor": 4
}
