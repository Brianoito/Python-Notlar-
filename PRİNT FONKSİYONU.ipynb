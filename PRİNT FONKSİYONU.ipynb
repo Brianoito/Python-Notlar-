{
 "cells": [
  {
   "cell_type": "markdown",
   "metadata": {},
   "source": [
    "PRİNT FONKSİYONU"
   ]
  },
  {
   "cell_type": "code",
   "execution_count": 2,
   "metadata": {},
   "outputs": [
    {
     "name": "stdout",
     "output_type": "stream",
     "text": [
      "35\n",
      "3.14\n",
      "19\n",
      "Mustafa Murat Coşkun\n",
      "Murat'ın bugün dersi var.\n"
     ]
    }
   ],
   "source": [
    "print(35)\n",
    "print(3.14)\n",
    "a = 4\n",
    "b = 15\n",
    "print(a+b)\n",
    "print(\"Mustafa Murat Coşkun\")\n",
    "print(\"Murat'ın bugün dersi var.\")"
   ]
  },
  {
   "cell_type": "code",
   "execution_count": 3,
   "metadata": {},
   "outputs": [
    {
     "name": "stdout",
     "output_type": "stream",
     "text": [
      "merhaba ibo 34\n"
     ]
    }
   ],
   "source": [
    "print(\"merhaba\",\"ibrahim\",34)"
   ]
  },
  {
   "cell_type": "code",
   "execution_count": 8,
   "metadata": {},
   "outputs": [
    {
     "name": "stdout",
     "output_type": "stream",
     "text": [
      "merhaba + ibrahim + 34\n"
     ]
    }
   ],
   "source": [
    "print(\"merhaba\"+\"ibrahim\"+\"34\")"
   ]
  },
  {
   "cell_type": "code",
   "execution_count": 6,
   "metadata": {},
   "outputs": [
    {
     "name": "stdout",
     "output_type": "stream",
     "text": [
      "merhaba\n",
      "ibrahim\n",
      "34\n"
     ]
    }
   ],
   "source": [
    "#\\n Aşağıdaki satıra geçer\n",
    "print(\"merhaba\\nibrahim\\n34\")"
   ]
  },
  {
   "cell_type": "code",
   "execution_count": 15,
   "metadata": {},
   "outputs": [
    {
     "name": "stdout",
     "output_type": "stream",
     "text": [
      "merhaba\t\tibrahim\n"
     ]
    }
   ],
   "source": [
    "#\\t Bir sonraki kelimeyle arasında bir tab boşluk bırakır\n",
    "print(\"merhaba\\t\\tibrahim\")"
   ]
  },
  {
   "cell_type": "code",
   "execution_count": 21,
   "metadata": {},
   "outputs": [
    {
     "name": "stdout",
     "output_type": "stream",
     "text": [
      "<class 'float'>\n",
      "<class 'str'>\n"
     ]
    }
   ],
   "source": [
    "#type() içine yazılan değerin hangi veri tipinden olduğunu söyler\n",
    "print(type(10.5))\n",
    "print(type(\"qrqwrwq\"))"
   ]
  },
  {
   "cell_type": "code",
   "execution_count": 40,
   "metadata": {},
   "outputs": [
    {
     "name": "stdout",
     "output_type": "stream",
     "text": [
      "11 22 33 44 55\n",
      "11a22a33a44a55\n",
      "11/22/33/44/55\n",
      "11.22.33.44.55\n",
      "11\n",
      "22\n",
      "33\n",
      "44\n",
      "55\n",
      "11\t22\t33\t44\t55\n"
     ]
    }
   ],
   "source": [
    "#sep parametresi aralara sembol eklemek için kullanılır\n",
    "print(11,22,33,44,55)\n",
    "print(11,22,33,44,55,sep = \"a\")\n",
    "print(11,22,33,44,55,sep = \"/\")\n",
    "print(11,22,33,44,55,sep = \".\")\n",
    "print(11,22,33,44,55,sep = \"\\n\")\n",
    "print(11,22,33,44,55,sep = \"\\t\")"
   ]
  },
  {
   "cell_type": "code",
   "execution_count": 35,
   "metadata": {},
   "outputs": [
    {
     "name": "stdout",
     "output_type": "stream",
     "text": [
      "p y t h o n\n"
     ]
    }
   ],
   "source": [
    "# * Stringin başına koyulursa her karakter arasına boşluk bırakır\n",
    "print(*\"python\")"
   ]
  },
  {
   "cell_type": "code",
   "execution_count": 41,
   "metadata": {},
   "outputs": [
    {
     "name": "stdout",
     "output_type": "stream",
     "text": [
      "p/y/t/h/o/n\n"
     ]
    }
   ],
   "source": [
    "print(*\"python\",sep=\"/\")"
   ]
  },
  {
   "cell_type": "markdown",
   "metadata": {},
   "source": [
    "STRİNGLERDE FORMATLAMA"
   ]
  },
  {
   "cell_type": "code",
   "execution_count": 52,
   "metadata": {},
   "outputs": [
    {
     "name": "stdout",
     "output_type": "stream",
     "text": [
      "ab12\n"
     ]
    }
   ],
   "source": [
    "#.format yazdığımız zaman süslü parantezleri sırasıyla doludururuz\n",
    "print(\"{}{}{}\".format(\"a\",\"b\",\"12\"))"
   ]
  },
  {
   "cell_type": "code",
   "execution_count": 59,
   "metadata": {},
   "outputs": [
    {
     "name": "stdout",
     "output_type": "stream",
     "text": [
      "30 / 6 = 5.0'dir\n"
     ]
    }
   ],
   "source": [
    "a=30\n",
    "b=6\n",
    "print(\"{} / {} = {}'dir\".format(a,b,a/b))"
   ]
  },
  {
   "cell_type": "code",
   "execution_count": 60,
   "metadata": {},
   "outputs": [],
   "source": [
    "#süslü parantezin içindeki sayı kaçıncı formatı seçeciğini belirler"
   ]
  },
  {
   "cell_type": "code",
   "execution_count": 63,
   "metadata": {},
   "outputs": [
    {
     "data": {
      "text/plain": [
       "'b d a c'"
      ]
     },
     "execution_count": 63,
     "metadata": {},
     "output_type": "execute_result"
    }
   ],
   "source": [
    "\"{1} {3} {0} {2}\".format(\"a\",\"b\",\"c\",\"d\")"
   ]
  },
  {
   "cell_type": "code",
   "execution_count": 66,
   "metadata": {},
   "outputs": [
    {
     "data": {
      "text/plain": [
       "'3.15 27.8 3.5368 7'"
      ]
     },
     "execution_count": 66,
     "metadata": {},
     "output_type": "execute_result"
    }
   ],
   "source": [
    "#süslü parantez içindeki kullanım kaçtane ondalıklı kısmı alacağını belirtiyor\n",
    "\"{:.2f} {:.1f} {:.4f} {:.0f}\".format(3.1464,27.78901,3.53679,7.4124121)"
   ]
  },
  {
   "cell_type": "markdown",
   "metadata": {},
   "source": [
    "YARDIM İÇİN https://pyformat.info/"
   ]
  },
  {
   "cell_type": "code",
   "execution_count": null,
   "metadata": {},
   "outputs": [],
   "source": []
  }
 ],
 "metadata": {
  "kernelspec": {
   "display_name": "Python 3",
   "language": "python",
   "name": "python3"
  },
  "language_info": {
   "codemirror_mode": {
    "name": "ipython",
    "version": 3
   },
   "file_extension": ".py",
   "mimetype": "text/x-python",
   "name": "python",
   "nbconvert_exporter": "python",
   "pygments_lexer": "ipython3",
   "version": "3.7.6"
  }
 },
 "nbformat": 4,
 "nbformat_minor": 4
}
