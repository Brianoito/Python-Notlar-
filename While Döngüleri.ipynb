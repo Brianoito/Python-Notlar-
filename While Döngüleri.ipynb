{
 "cells": [
  {
   "cell_type": "markdown",
   "metadata": {},
   "source": [
    "While Döngüleri"
   ]
  },
  {
   "cell_type": "markdown",
   "metadata": {},
   "source": [
    "while döngüleri belli bir koşul sağlandığı sürece bloğundaki işlemleri gerçekleştirmeye devam eder. while döngülerinin sona ermesi için koşul durumunun bir süre sonra False olması gereklidir.Yapısı şu şekildedir;\n",
    "\n",
    "Python\n",
    "while (koşul):\n",
    "      İşlem1\n",
    "      İşlem2\n",
    "      İşlem3\n",
    "        //\n",
    "        //\n",
    "1\n",
    "2\n",
    "3\n",
    "4\n",
    "5\n",
    "6\n",
    "while (koşul):\n",
    "      İşlem1\n",
    "      İşlem2\n",
    "      İşlem3\n",
    "        //\n",
    "        //\n",
    "while döngülerini daha iyi anlamak için örneklerimize bakalım."
   ]
  },
  {
   "cell_type": "code",
   "execution_count": 12,
   "metadata": {},
   "outputs": [
    {
     "name": "stdout",
     "output_type": "stream",
     "text": [
      "i:0\n",
      "i:1\n",
      "i:2\n",
      "i:3\n",
      "i:4\n",
      "i:5\n",
      "i:6\n",
      "i:7\n",
      "i:8\n",
      "i:9\n"
     ]
    }
   ],
   "source": [
    "i=0\n",
    "while(i<10):\n",
    "    print(\"i:{}\".format(i))\n",
    "    i+=1\n",
    "     "
   ]
  },
  {
   "cell_type": "code",
   "execution_count": 17,
   "metadata": {},
   "outputs": [
    {
     "name": "stdout",
     "output_type": "stream",
     "text": [
      "merhaba\n",
      "merhaba\n",
      "merhaba\n",
      "merhaba\n",
      "merhaba\n",
      "merhaba\n",
      "merhaba\n",
      "merhaba\n",
      "merhaba\n",
      "merhaba\n"
     ]
    }
   ],
   "source": [
    "#ekrana belli bir sayıda string yazma\n",
    "a=0\n",
    "while (a<10):\n",
    "    print(\"merhaba\")\n",
    "    a+=1"
   ]
  },
  {
   "cell_type": "code",
   "execution_count": 19,
   "metadata": {},
   "outputs": [
    {
     "name": "stdout",
     "output_type": "stream",
     "text": [
      "index:0 liste elemanı:1\n",
      "index:1 liste elemanı:2\n",
      "index:2 liste elemanı:3\n",
      "index:3 liste elemanı:4\n",
      "index:4 liste elemanı:5\n",
      "index:5 liste elemanı:6\n",
      "index:6 liste elemanı:7\n",
      "index:7 liste elemanı:8\n"
     ]
    }
   ],
   "source": [
    "#while döngüsüyle bir listede gezinmek\n",
    "liste=[1,2,3,4,5,6,7,8]\n",
    "index=0\n",
    "while (index<len(liste)):\n",
    "    print(\"index:{} liste elemanı:{}\".format(index,liste[index]))\n",
    "    index+=1"
   ]
  },
  {
   "cell_type": "code",
   "execution_count": null,
   "metadata": {},
   "outputs": [],
   "source": []
  }
 ],
 "metadata": {
  "kernelspec": {
   "display_name": "Python 3",
   "language": "python",
   "name": "python3"
  },
  "language_info": {
   "codemirror_mode": {
    "name": "ipython",
    "version": 3
   },
   "file_extension": ".py",
   "mimetype": "text/x-python",
   "name": "python",
   "nbconvert_exporter": "python",
   "pygments_lexer": "ipython3",
   "version": "3.7.6"
  }
 },
 "nbformat": 4,
 "nbformat_minor": 4
}
