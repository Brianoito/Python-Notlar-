{
 "cells": [
  {
   "cell_type": "markdown",
   "metadata": {},
   "source": [
    "#### KOŞULLU DURUMLAR (if,elif,else)KOŞULLU DURUMLAR (if,elif,else)"
   ]
  },
  {
   "cell_type": "markdown",
   "metadata": {},
   "source": [
    "Şimdiye kadar Pythondaki temel veritiplerini öğrendik ve gerekli temelleri aldık. Artık bundan sonra çok daha eğlenceli konular göreceğiz ve elle tutulur programlar yazmaya başlayacağız. Bu konuda ilk olarak Python programlarının çalışma mantığını göreceğiz ve daha sonrasında koşullu durumları anlamaya çalışacağız."
   ]
  },
  {
   "cell_type": "markdown",
   "metadata": {},
   "source": [
    "Çoğu zaman Python programlarımız belirli bloklardan oluşur ve bu bloklar her zaman çalışmak zorunda olmaz.Peki bu bloklar nasıl tanımlanır? Pythonda bir blok tanımlama  işlemi Girintiler sayesinde olmaktadır. Örnek olması açısından, Pythonda bloklar şu şekilde oluşabilir."
   ]
  },
  {
   "cell_type": "code",
   "execution_count": 4,
   "metadata": {},
   "outputs": [
    {
     "name": "stdout",
     "output_type": "stream",
     "text": [
      "tab\n"
     ]
    }
   ],
   "source": [
    "a=1\n",
    "if 1==1 :#blok1\n",
    "    print(\"tab\")#blok2 bir tab boşlukla girinti oluştururuz\n"
   ]
  },
  {
   "cell_type": "markdown",
   "metadata": {},
   "source": [
    "if Bloğu\n",
    "if bloğu programımızın içinde herhangi bir yerde belli bir koşulu kontrol edecek isek kullanılan bloklardır.Yazımı şu şekildedir;\n",
    "\n",
    "Python\n",
    "if (koşul): \n",
    "    # if bloğu - Koşul sağlanınca (True) çalışır. Bu hizadaki \n",
    "    # her işlem bu if bloğuna ait.\n",
    "    # if bloğu - Girintiyle oluşturulur.\n",
    "    # Yapılacak İşlemler\n",
    "1\n",
    "2\n",
    "3\n",
    "4\n",
    "5\n",
    "if (koşul): \n",
    "    # if bloğu - Koşul sağlanınca (True) çalışır. Bu hizadaki \n",
    "    # her işlem bu if bloğuna ait.\n",
    "    # if bloğu - Girintiyle oluşturulur.\n",
    "    # Yapılacak İşlemler\n",
    "\n",
    "if bloğu eğer koşul sağlanırsa anlamı taşır. Eğer if kalıbındaki koşul sağlanırsa (True) if bloğu çalıştırılır, koşul sağlanmazsa (False) if bloğu çalıştırılmaz.\n"
   ]
  },
  {
   "cell_type": "code",
   "execution_count": 3,
   "metadata": {},
   "outputs": [
    {
     "name": "stdout",
     "output_type": "stream",
     "text": [
      "Mekana Giriş Konrolü\n",
      "YAŞINIZI GİRİN:17\n",
      "18 YAŞ ALTI MEKANA GİREMEZ\n"
     ]
    }
   ],
   "source": [
    "print(\"Mekana Giriş Konrolü\")\n",
    "yaş=int(input(\"YAŞINIZI GİRİN:\"))\n",
    "if yaş<18 :\n",
    "    print(\"18 YAŞ ALTI MEKANA GİREMEZ\")"
   ]
  },
  {
   "cell_type": "markdown",
   "metadata": {},
   "source": [
    "else Bloğu\n",
    "else blokları if koşulu sağlanmadığı zaman (False) çalışan bloklardır. Kullanımı şu şekildedir;\n",
    "\n",
    "Python\n",
    "else:\n",
    "       # else bloğu - Yukarısındaki herhangi bir if bloğu (veya ilerde göreceğimiz elif bloğu) çalışmadığı\n",
    "       # zaman çalışır. \n",
    "       # else bloğu - Girintiyle oluşturulur.\n",
    "       Yapılacak İşlemler\n",
    "1\n",
    "2\n",
    "3\n",
    "4\n",
    "5\n",
    "else:\n",
    "       # else bloğu - Yukarısındaki herhangi bir if bloğu (veya ilerde göreceğimiz elif bloğu) çalışmadığı\n",
    "       # zaman çalışır. \n",
    "       # else bloğu - Girintiyle oluşturulur.\n",
    "       Yapılacak İşlemler\n",
    "Dikkat ederseniz burada else koşulunun yanına herhangi bir koşul yazmadık. Çünkü zaten else bloğunun çalışması ondan önce gelen diğer koşulların sağlanmamasına bağlı oluyor. İsterseniz, 18 yaş kontrolü örneğini else bloğunu dahil ederek tekrar yazalım.\n",
    "\n"
   ]
  },
  {
   "cell_type": "code",
   "execution_count": 4,
   "metadata": {},
   "outputs": [
    {
     "name": "stdout",
     "output_type": "stream",
     "text": [
      "Mekana Giriş Konrolü\n",
      "YAŞINIZI GİRİN:20\n",
      "HOŞGELDİNİZ\n"
     ]
    }
   ],
   "source": [
    "print(\"Mekana Giriş Konrolü\")\n",
    "yaş=int(input(\"YAŞINIZI GİRİN:\"))\n",
    "if yaş<18 :\n",
    "    print(\"18 YAŞ ALTI MEKANA GİREMEZ\")\n",
    "else :\n",
    "    print(\"HOŞGELDİNİZ\")"
   ]
  },
  {
   "cell_type": "code",
   "execution_count": null,
   "metadata": {},
   "outputs": [],
   "source": []
  }
 ],
 "metadata": {
  "kernelspec": {
   "display_name": "Python 3",
   "language": "python",
   "name": "python3"
  },
  "language_info": {
   "codemirror_mode": {
    "name": "ipython",
    "version": 3
   },
   "file_extension": ".py",
   "mimetype": "text/x-python",
   "name": "python",
   "nbconvert_exporter": "python",
   "pygments_lexer": "ipython3",
   "version": "3.7.6"
  }
 },
 "nbformat": 4,
 "nbformat_minor": 4
}
